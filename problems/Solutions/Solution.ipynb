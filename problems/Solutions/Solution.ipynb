{
 "cells": [
  {
   "cell_type": "code",
   "execution_count": 17,
   "metadata": {},
   "outputs": [
    {
     "name": "stdout",
     "output_type": "stream",
     "text": [
      "[0, 1] ['none']\n"
     ]
    }
   ],
   "source": [
    "# 两数之和\n",
    "\n",
    "class Solutions(object):\n",
    "    \n",
    "    def twoSum(self, nums: list[int], target: int) -> list[int]:\n",
    "        records = dict()\n",
    "    \n",
    "        for index, value in enumerate(nums):\n",
    "            if target - value in records:   # 遍历当前元素，并在map中寻找是否有匹配的key\n",
    "                return [records[target - value], index]\n",
    "            else:\n",
    "                records[value] = index   # 如果没找到匹配对，就把访问过的元素和下标加入到map中\n",
    "        return ['none']\n",
    "    \n",
    "# test:\n",
    "# 给定 nums = [2, 7, 11, 15], target = 9\n",
    "# 因为 nums[0] + nums[1] = 2 + 7 = 9\n",
    "# 所以返回 [0, 1]\n",
    "\n",
    "test = Solutions()\n",
    "result1 = test.twoSum([2, 7, 11, 15], 9)\n",
    "result2 = test.twoSum([2, 7, 11, 15], 10)\n",
    "print(result1, result2)\n"
   ]
  }
 ],
 "metadata": {
  "kernelspec": {
   "display_name": "Python 3",
   "language": "python",
   "name": "python3"
  },
  "language_info": {
   "codemirror_mode": {
    "name": "ipython",
    "version": 3
   },
   "file_extension": ".py",
   "mimetype": "text/x-python",
   "name": "python",
   "nbconvert_exporter": "python",
   "pygments_lexer": "ipython3",
   "version": "3.12.2"
  }
 },
 "nbformat": 4,
 "nbformat_minor": 2
}
